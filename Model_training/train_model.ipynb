{
 "cells": [
  {
   "cell_type": "markdown",
   "id": "1c6c91a9",
   "metadata": {},
   "source": [
    "# 1. Install Dependencies\n",
    "*Install YOLO and Roboflow packages required for training.*"
   ]
  },
  {
   "cell_type": "code",
   "execution_count": null,
   "id": "ccdc9645",
   "metadata": {},
   "outputs": [],
   "source": [
    "!pip install -q -r requirements-train.txt"
   ]
  },
  {
   "cell_type": "markdown",
   "id": "1732c0b8",
   "metadata": {},
   "source": [
    "*Mount google drive (this is for saving logs)*"
   ]
  },
  {
   "cell_type": "code",
   "execution_count": null,
   "id": "e09b3fac",
   "metadata": {},
   "outputs": [],
   "source": [
    "from google.colab import drive\n",
    "drive.mount('/content/drive')"
   ]
  },
  {
   "cell_type": "markdown",
   "id": "cf09c702",
   "metadata": {},
   "source": [
    "*Load required Python modules for training, prediction, and logging.*"
   ]
  },
  {
   "cell_type": "code",
   "execution_count": null,
   "id": "0cd53f70",
   "metadata": {},
   "outputs": [],
   "source": [
    "from roboflow import Roboflow\n",
    "from ultralytics import YOLO\n",
    "from google.colab import files\n",
    "from IPython.display import Image, display\n",
    "import os, glob, csv\n",
    "from datetime import datetime\n",
    "import shutil"
   ]
  },
  {
   "cell_type": "markdown",
   "id": "0597ed2e",
   "metadata": {},
   "source": [
    "# 2. Download Dataset from Roboflow\n",
    "*Authenticate and download your annotated dataset for YOLOv8 training.*"
   ]
  },
  {
   "cell_type": "code",
   "execution_count": null,
   "id": "067d8591",
   "metadata": {},
   "outputs": [],
   "source": [
    "#  Your Roboflow API key\n",
"rf = Roboflow(api_key=\"***REMOVED\")\n",

    "\n",
    "#  Your workspace slug\n",
    "#  Your project slug\n",
    "project = rf.workspace(\"oceanhazarddetection\").project(\"dataset-used-into-fins\")\n",
    "\n",
    "# Which version of that project to use\n",
    "version = project.version(1)\n",
    "\n",
    "# Download it in YOLOv8 format\n",
    "dataset = version.download(\"yolov8\")"
   ]
  },
  {
   "cell_type": "markdown",
   "id": "16c01531",
   "metadata": {},
   "source": [
    "# 3. Set Experiment Metadata & Hyperparameters\n",
    "*These variables capture both the training setup and the information you’ll\n",
    "push out to your logs so you can trace exactly how each model was trained and reviewed later. Update these every run.*"
   ]
  },
  {
   "cell_type": "code",
   "execution_count": null,
   "id": "26431b85",
   "metadata": {},
   "outputs": [],
   "source": [
    "# Experiment log for performance_tracking.csv\n",
    "# for your logging purposes only\n",
    "dataset_version = \"3\"\n",
    "change_number    = \"1\"\n",
    "model_id         = \"1\"\n",
    "notes            = \"THIS IS A TEST RUN ONLY\"\n",
    "augmentations    = \"ADDED FLIP, ROTATE, and HUE ADJUSTMENT\"\n",
    "classes          = \"MY CLASS\"  #\n",
    "null_images      = 1462\n",
    "model_used       = \"yolov8s.pt\"\n",
    "\n",
    "# Training Parameters\n",
    "epochs      = 1\n",
    "image_size  = 640\n",
    "data_yaml   = \"/content/DATASET-USED-INTO-FINS-1/data.yaml\"  # e.g if using colab\n",
    "batch       = 16"
   ]
  },
  {
   "cell_type": "markdown",
   "id": "e136f46a",
   "metadata": {},
   "source": [
    "# 4. Train the Model\n",
    "*Train your YOLOv8 model using your configured hyperparameters.*"
   ]
  },
  {
   "cell_type": "code",
   "execution_count": null,
   "id": "e12baccd",
   "metadata": {},
   "outputs": [],
   "source": [
    "model = YOLO(model_used)\n",
    "results = model.train(data=data_yaml, epochs=epochs, imgsz=image_size, batch=batch)"
   ]
  },
  {
   "cell_type": "markdown",
   "id": "d3871e0b",
   "metadata": {},
   "source": [
    "# 5. Extract and Save Metrics\n",
    "*Once training finishes, we automatically pull out the key detection metrics and append them to our central performance log. This ensures every run is recorded with its full context*"
   ]
  },
  {
   "cell_type": "code",
   "execution_count": null,
   "id": "150a4bb9",
   "metadata": {},
   "outputs": [],
   "source": [
    "# ---------------------------------------------------------------------------\n",
    "# 5️⃣ Extract + log metrics *after* training\n",
    "# ---------------------------------------------------------------------------\n",
    "\n",
    "# A. Where did YOLO save this run?\n",
    "trainer     = model.trainer            # trainer object created internally\n",
    "save_dir    = trainer.save_dir         # e.g. runs/detect/train\n",
    "folder_name = os.path.basename(save_dir)\n",
    "args        = trainer.args             # (full CLI args if you still want them)\n",
    "\n",
    "# B. Metrics from the results object returned by .train()\n",
    "metrics = {\n",
    "    \"mAP@0.5\"     : results.box.map50,\n",
    "    \"mAP@0.5-0.95\": results.box.map,\n",
    "    \"precision\"   : results.box.p,\n",
    "    \"recall\"      : results.box.r,\n",
    "}\n",
    "\n",
    "# C. Build one CSV row\n",
    "import pytz\n",
    "from datetime import datetime\n",
    "\n",
    "local_tz  = pytz.timezone(\"Australia/Brisbane\")\n",
    "timestamp = datetime.now(local_tz).strftime(\"%d%b_%H-%M\")\n",
    "csv_path  = \"performance_tracking.csv\"\n",
    "\n",
    "row = [\n",
    "    timestamp,\n",
    "    dataset_version,\n",
    "    change_number,\n",
    "    model_id,\n",
    "    model_used,\n",
    "    epochs,\n",
    "    metrics[\"mAP@0.5\"],\n",
    "    metrics[\"mAP@0.5-0.95\"],\n",
    "    metrics[\"precision\"],\n",
    "    metrics[\"recall\"],\n",
    "    augmentations,\n",
    "    f\"{image_size}x{image_size}\",\n",
    "    classes,\n",
    "    null_images,\n",
    "    folder_name,\n",
    "    notes\n",
    "]\n",
    "\n",
    "# D. Append the row (create file & header the first time)\n",
    "file_exists = os.path.isfile(csv_path)\n",
    "with open(csv_path, \"a\", newline=\"\") as f:\n",
    "    writer = csv.writer(f)\n",
    "    if not file_exists:\n",
    "        writer.writerow([\n",
    "            \"Date/Time\",\"Dataset Version\",\"Change #\",\"Model ID\",\"Model Used\",\"Epochs\",\n",
    "            \"mAP@0.5\",\"mAP@0.5-0.95\",\"Precision\",\"Recall\",\"Augmentations\",\n",
    "            \"Image Size\",\"Classes\",\"Null Images\",\"Run Folder\",\"Notes\"\n",
    "        ])\n",
    "    writer.writerow(row)\n",
    "\n",
    "print(f\"Metrics logged to {csv_path}\")\n",
    "print(f\"Training artifacts are in {save_dir}\")"
   ]
  },
  {
   "cell_type": "markdown",
   "id": "75f298b3",
   "metadata": {},
   "source": [
    "# 6. Backup Model Folder\n",
    "*Save the full YOLO training folder (weights, graphs, logs) to Drive.*"
   ]
  },
  {
   "cell_type": "code",
   "execution_count": null,
   "id": "74e4ad80",
   "metadata": {},
   "outputs": [],
   "source": [
    "named_folder = f\"{model_id}_{timestamp}_{folder_name}\"\n",
    "backup_path  = f\"/content/drive/MyDrive/yolo_models/{named_folder}\"\n",
    "shutil.copytree(save_dir, backup_path)\n",
    "print(f\" Model folder backed up to: {backup_path}\")"
   ]
  },
  {
   "cell_type": "markdown",
   "id": "167ad8a5",
   "metadata": {},
   "source": [
    "# 7. Test the model using your own image\n",
    "*Upload a test image and run prediction using your trained model.*"
   ]
  },
  {
   "cell_type": "code",
   "execution_count": null,
   "id": "d62da6c3",
   "metadata": {},
   "outputs": [],
   "source": [
    "print(\"\\nTry your model out\")\n",
    "uploaded = files.upload()\n",
    "\n",
    "if uploaded:\n",
    "    refined_model = YOLO(f\"{save_dir}/weights/best.pt\")\n",
    "    for filename in uploaded.keys():\n",
    "        refined_model.predict(source=filename, save=True, show=False, conf=0.1)\n",
    "\n",
    "    predict_dir = sorted(glob.glob(\"runs/detect/predict*\"), key=os.path.getmtime)[-1]\n",
    "    print(f\"Predictions are saved in: {predict_dir}\")\n",
    "\n",
    "    for img_file in sorted(glob.glob(f\"{predict_dir}/*\")):\n",
    "        display(Image(filename=img_file))\n",
    "else:\n",
    "    print(\"No image uploaded\")"
   ]
  }
 ],
 "metadata": {
  "language_info": {
   "name": "python"
  }
 },
 "nbformat": 4,
 "nbformat_minor": 5
}
